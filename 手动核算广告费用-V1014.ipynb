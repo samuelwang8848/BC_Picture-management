{
 "cells": [
  {
   "cell_type": "markdown",
   "metadata": {},
   "source": [
    "**亦谷官方旗舰店**  \n",
    "**carteloladies旗舰店**  \n",
    "**梦特娇天猫**  \n",
    "**猫人阿讷西天猫专卖店**  \n",
    "**北极绒官方旗舰店**  "
   ]
  },
  {
   "cell_type": "markdown",
   "metadata": {},
   "source": [
    "# 直通车"
   ]
  },
  {
   "cell_type": "code",
   "execution_count": 1,
   "metadata": {},
   "outputs": [],
   "source": [
    "import pandas as pd\n",
    "import datetime\n",
    "import zipfile\n",
    "import os\n",
    "\n",
    "shop_name = '猫人阿讷西天猫专卖店'  # 店铺名称\n",
    "file_name = '20201012'   # 压缩包名称\n",
    "onedate='2020-10-12'\n",
    "# 压缩包路径\n",
    "path = \"D:/Data/广告数据/\"+shop_name+\"/\"+file_name+\".zip\"\n",
    "# 店铺路径\n",
    "filepath = \"D:/Data/广告数据/\"+shop_name\n",
    "\n",
    "\n",
    "zipFile = zipfile.ZipFile(path, mode='r')   # 创建zipFile 对象\n",
    "for file in zipFile.namelist():\n",
    "    zipFile.extract(file, filepath)   # 解压到指定路径\n",
    "zipFile.close()\n",
    "os.remove(path)  # 删除压缩包\n",
    "\n",
    "os.chdir(filepath)  # 指定到店铺路径\n",
    "data = pd.read_csv(file_name+'.csv', encoding='utf-8',\n",
    "                   dtype={'商品id': str})  # 导入数据\n",
    "if data.empty:\n",
    "    os.remove(file_name+'.csv')\n",
    "else:\n",
    "    data = data.loc[:, ['商品id', '日期', '花费(分)']]\n",
    "    data['店铺名称'] = shop_name\n",
    "    data['数据类型'] = '商品广告费'\n",
    "    data['数值'] = data.loc[:, ['花费(分)']]/100\n",
    "    data.rename(columns={'商品id': '平台商品编号', '日期': '所属日期'}, inplace=True)\n",
    "    data.drop('花费(分)', axis=1)\n",
    "    data = data.loc[data.数值 != 0]  # 筛选去除数值为0\n",
    "    columns_sort = ['店铺名称', '平台商品编号', '数据类型', '数值', '所属日期']\n",
    "    data = data[columns_sort]  # 按列名排序\n",
    "    data.to_excel('直通车费用.xlsx', sheet_name='sheet_1',\n",
    "                  encoding='utf-8', index=False)\n",
    "    os.remove(file_name+'.csv')"
   ]
  },
  {
   "cell_type": "markdown",
   "metadata": {},
   "source": [
    "#  品销宝"
   ]
  },
  {
   "cell_type": "code",
   "execution_count": null,
   "metadata": {},
   "outputs": [],
   "source": [
    "import pandas as pd\n",
    "import datetime\n",
    "import glob\n",
    "import os\n",
    "\n",
    "today = datetime.date.today()\n",
    "yesterday = today-datetime.timedelta(1)\n",
    "yesterday = yesterday.strftime(\"%Y-%m-%d\")\n",
    "\n",
    "path = \"D:/Data/广告数据/\"+shop_name+\"/品销宝\"\n",
    "os.chdir(path)\n",
    "file_list = glob.glob(\"*.xls\")  # 获取文件列表\n",
    "data = pd.DataFrame()\n",
    "for file in file_list:\n",
    "    \"\"\"\n",
    "    合并表格\n",
    "    \"\"\"\n",
    "    df = pd.read_excel(file, encoding='utf-8')\n",
    "    data = pd.concat([data, df])\n",
    "    os.remove(file)\n",
    "\n",
    "if data.empty:\n",
    "    pass\n",
    "else:\n",
    "    data.rename(columns={'交易金额(元)': '数值'}, inplace=True)\n",
    "    data['店铺名称'] = shop_name\n",
    "    data['平台商品编号'] = '-1'\n",
    "    data['数据类型'] = '商品广告费'\n",
    "    data['所属日期'] = onedate\n",
    "    data = data.loc[:, ['店铺名称', '平台商品编号', '数据类型', '数值', '所属日期']]\n",
    "    os.chdir(\"D:/Data/广告数据/\"+shop_name)\n",
    "    data.to_excel('品销宝费用.xlsx', sheet_name='sheet_1',\n",
    "                  encoding='utf-8', index=False)"
   ]
  },
  {
   "cell_type": "code",
   "execution_count": null,
   "metadata": {},
   "outputs": [],
   "source": []
  },
  {
   "cell_type": "markdown",
   "metadata": {},
   "source": [
    "#  超级推荐"
   ]
  },
  {
   "cell_type": "code",
   "execution_count": 2,
   "metadata": {},
   "outputs": [],
   "source": [
    "import pandas as pd\n",
    "import datetime\n",
    "import os\n",
    "\n",
    "path = 'D:/Data/广告数据/'+shop_name + '/超级推荐'\n",
    "os.chdir(path)\n",
    "data = pd.read_excel('账户概览.xls', encoding='utf-8', dtype={'宝贝id': str})\n",
    "data = data.loc[:, ['宝贝id', '消耗', '日期']]\n",
    "data.rename(columns={'宝贝id': '平台商品编号', '消耗': '数值', '日期': '所属日期'}, inplace=True)\n",
    "data['数据类型'] = '商品广告费'\n",
    "data['店铺名称'] = shop_name\n",
    "data = data[data.数值 != 0]\n",
    "columns_sort = ['店铺名称', '平台商品编号', '数据类型', '数值', '所属日期']\n",
    "data = data[columns_sort]\n",
    "os.remove(path+'/账户概览.xls')\n",
    "\n",
    "os.chdir('D:/Data/广告数据/'+shop_name)\n",
    "if data.empty:\n",
    "    pass\n",
    "else:\n",
    "    data.to_excel(\n",
    "        '超级推荐-账户概览.xlsx', sheet_name='sheet_1', encoding='utf-8', index=False)"
   ]
  },
  {
   "cell_type": "markdown",
   "metadata": {},
   "source": [
    "# 商品推广"
   ]
  },
  {
   "cell_type": "code",
   "execution_count": 8,
   "metadata": {},
   "outputs": [],
   "source": [
    "import pandas as pd\n",
    "import datetime\n",
    "import os\n",
    "\n",
    "path = 'D:/Data/广告数据/'+shop_name + '/超级推荐'\n",
    "os.chdir(path)\n",
    "data = pd.read_excel('图文推广.xls', encoding='utf-8', dtype={'单元': str})\n",
    "data['店铺名称'] = shop_name\n",
    "data['平台商品编号'] = '-1'\n",
    "data['数据类型'] = '商品广告费'\n",
    "data.rename(columns={'消耗': '数值'}, inplace=True)\n",
    "data['所属日期'] = onedate\n",
    "data = data.loc[:, ['店铺名称', '平台商品编号', '数据类型', '数值', '所属日期']]\n",
    "os.remove(path+'/图文推广.xls')\n",
    "os.chdir('D:/Data/广告数据/'+shop_name)\n",
    "data.to_excel(\n",
    "    '超级推荐-图文推广.xlsx', sheet_name='sheet_1', encoding='utf-8', index=False)"
   ]
  },
  {
   "cell_type": "markdown",
   "metadata": {},
   "source": [
    "# 图文推广"
   ]
  },
  {
   "cell_type": "code",
   "execution_count": 3,
   "metadata": {},
   "outputs": [],
   "source": [
    "import pandas as pd\n",
    "import datetime\n",
    "import os\n",
    "\n",
    "path = 'D:/Data/广告数据/'+shop_name + '/超级推荐'\n",
    "os.chdir(path)\n",
    "data = pd.read_excel('图文推广.xls', encoding='utf-8', dtype={'单元': str})\n",
    "data['店铺名称'] = shop_name\n",
    "data['平台商品编号'] = '-1'\n",
    "data['数据类型'] = '商品广告费'\n",
    "data.rename(columns={'消耗': '数值'}, inplace=True)\n",
    "data['所属日期'] = onedate\n",
    "data = data.loc[:, ['店铺名称', '平台商品编号', '数据类型', '数值', '所属日期']]\n",
    "os.remove(path+'/图文推广.xls')\n",
    "os.chdir('D:/Data/广告数据/'+shop_name)\n",
    "data.to_excel(\n",
    "    '超级推荐-图文推广.xlsx', sheet_name='sheet_1', encoding='utf-8', index=False)"
   ]
  },
  {
   "cell_type": "markdown",
   "metadata": {},
   "source": [
    "# 直播推广"
   ]
  },
  {
   "cell_type": "code",
   "execution_count": 12,
   "metadata": {},
   "outputs": [],
   "source": [
    "import pandas as pd\n",
    "import datetime\n",
    "import os\n",
    "\n",
    "path = 'D:/Data/广告数据/'+shop_name + '/超级推荐'\n",
    "os.chdir(path)\n",
    "data = pd.read_excel('直播推广.xls', encoding='utf-8', dtype={'单元': str})\n",
    "data['店铺名称'] = shop_name\n",
    "data['平台商品编号'] = '-1'\n",
    "data['数据类型'] = '商品广告费'\n",
    "data.rename(columns={'消耗': '数值'}, inplace=True)\n",
    "data['所属日期'] = onedate\n",
    "data = data.loc[:, ['店铺名称', '平台商品编号', '数据类型', '数值', '所属日期']]\n",
    "os.remove(path+'/直播推广.xls')\n",
    "os.chdir('D:/Data/广告数据/'+shop_name)\n",
    "data.to_excel(\n",
    "    '超级推荐-直播推广.xlsx', sheet_name='sheet_1', encoding='utf-8', index=False)"
   ]
  },
  {
   "cell_type": "code",
   "execution_count": null,
   "metadata": {},
   "outputs": [],
   "source": []
  },
  {
   "cell_type": "markdown",
   "metadata": {},
   "source": [
    "# 按店铺 & 按商品  汇总"
   ]
  },
  {
   "cell_type": "code",
   "execution_count": 3,
   "metadata": {},
   "outputs": [],
   "source": [
    "import pandas as pd\n",
    "import datetime\n",
    "import shutil\n",
    "import glob\n",
    "import os\n",
    "path = \"D:/Data/广告数据/\"\n",
    "new_path = 'D:/Data/广告数据/手动维护'\n",
    "\n",
    "today = datetime.date.today()\n",
    "today = today.strftime(\"%Y%m%d\")\n",
    "\n",
    "file_path = path+shop_name  # 店铺路径\n",
    "os.chdir(file_path)\n",
    "file_list = glob.glob('*.xlsx')  # 获取文件列表\n",
    "if file_list:\n",
    "    data = pd.DataFrame()\n",
    "    for file in file_list:\n",
    "        file_data = pd.read_excel(\n",
    "            file, encoding='utf-8', dtype={'平台商品编号': str})\n",
    "        data = pd.concat([data, file_data])  # 汇总表格\n",
    "        os.remove(file)  # 删除下载历史\n",
    "    if data.empty:\n",
    "        pass\n",
    "    else:\n",
    "        data_pivot = data.groupby(by=['店铺名称', '平台商品编号', '数据类型', '所属日期']).agg(\n",
    "            {'数值': 'sum'}).reset_index()\n",
    "        data_pivot=data_pivot.loc[data_pivot.数值!=0]  #筛选不为0\n",
    "        columns_sort = ['店铺名称', '平台商品编号', '数据类型', '数值', '所属日期']\n",
    "        data = data_pivot[columns_sort]  # 按商品维护\n",
    "\n",
    "        shop_dict = {'店铺名称': shop_name, '所属日期': onedate,\n",
    "                     '收支类型': '广告费', '金额': data['数值'].sum(), '备注': ''}\n",
    "        df = pd.DataFrame(shop_dict, index=[0])  # 按店铺维护\n",
    "\n",
    "        data.to_excel(shop_name+'-商品广告费(按商品)-{}.xlsx'.format(today),\n",
    "                      sheet_name='sheet_1', index=False)\n",
    "        df.to_excel(shop_name+'-商品广告费(按店铺)-{}.xlsx'.format(today),\n",
    "                    sheet_name='sheet_1', index=False)\n",
    "        shutil.move(shop_name +\n",
    "                    '-商品广告费(按店铺)-{}.xlsx'.format(today), new_path)  # 移动文件\n",
    "        shutil.move(shop_name +\n",
    "                    '-商品广告费(按商品)-{}.xlsx'.format(today), new_path)  # 移动文件\n",
    "else:\n",
    "    pass"
   ]
  },
  {
   "cell_type": "code",
   "execution_count": null,
   "metadata": {},
   "outputs": [],
   "source": []
  },
  {
   "cell_type": "code",
   "execution_count": null,
   "metadata": {},
   "outputs": [],
   "source": []
  },
  {
   "cell_type": "code",
   "execution_count": null,
   "metadata": {},
   "outputs": [],
   "source": []
  },
  {
   "cell_type": "code",
   "execution_count": null,
   "metadata": {},
   "outputs": [],
   "source": []
  }
 ],
 "metadata": {
  "kernelspec": {
   "display_name": "Python 3",
   "language": "python",
   "name": "python3"
  },
  "language_info": {
   "codemirror_mode": {
    "name": "ipython",
    "version": 3
   },
   "file_extension": ".py",
   "mimetype": "text/x-python",
   "name": "python",
   "nbconvert_exporter": "python",
   "pygments_lexer": "ipython3",
   "version": "3.7.6"
  },
  "toc": {
   "base_numbering": 1,
   "nav_menu": {},
   "number_sections": true,
   "sideBar": true,
   "skip_h1_title": false,
   "title_cell": "Table of Contents",
   "title_sidebar": "Contents",
   "toc_cell": false,
   "toc_position": {},
   "toc_section_display": true,
   "toc_window_display": false
  }
 },
 "nbformat": 4,
 "nbformat_minor": 4
}
