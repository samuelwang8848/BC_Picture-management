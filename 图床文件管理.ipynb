{
 "cells": [
  {
   "cell_type": "code",
   "execution_count": null,
   "metadata": {},
   "outputs": [],
   "source": [
    "from qiniu import Auth, put_file, etag\n",
    "import pandas as pd\n",
    "import requests\n",
    "import shutil\n",
    "import time\n",
    "import glob\n",
    "import os\n",
    "\n",
    "os.chdir('E:/photo')  # 图片保存的路径\n",
    "file_path = 'E:/photo_path'  # 上传成功后保存的路径\n",
    "timestamp = str(int(time.time()))  # 时间戳\n",
    "access_key = '***'\n",
    "secret_key = '***'  # 秘钥对\n",
    "q = Auth(access_key, secret_key)  # 鉴权\n",
    "bucket_name = '***'  # 存储空间名称\n",
    "bucket_domain = '***'  # 空间外链\n",
    "filenames = glob.glob('*.*')  # 获取文件夹内图片名称生成列表\n",
    "result = pd.DataFrame(columns=('photo_name', 'photo_url'))  # 定义空的Dataframe保存内容\n",
    "\n",
    "for key in filenames:\n",
    "    # 生成上传 Token，指定过期时间\n",
    "    token = q.upload_token(bucket_name, key, 3600)\n",
    "    # 要上传图片的本地路径\n",
    "    localfile = 'E:/photo/{}'.format(key)\n",
    "    # 上传图片\n",
    "    ret, info = put_file(token, key, localfile)\n",
    "    print(info)\n",
    "    assert ret['key'] == key\n",
    "    assert ret['hash'] == etag(localfile)\n",
    "    # 上传后将移动图片到file_path\n",
    "    shutil.move(localfile, file_path)\n",
    "    # 构造下载base_url\n",
    "    base_url = 'http://%s/%s' % (bucket_domain, key)\n",
    "    # 断言请求链接是否成功,否则触发异常\n",
    "    r = requests.get(base_url)\n",
    "    assert r.status_code == 200\n",
    "    # 保存规格码和图片链接\n",
    "    result = result.append(pd.DataFrame({'photo_name': [os.path.splitext(key)[\n",
    "                           0]], 'photo_url': [base_url]}), ignore_index=True)\n",
    "\n",
    "result.rename(columns={'photo_name': '图片名称',\n",
    "                       'photo_url': '图片链接'}, inplace=True)  # 修改列名\n",
    "os.chdir('C:/Users/Samuel/Desktop/url_data')  # 图片链接保存的路径\n",
    "result.to_excel('图片链接' + timestamp + '.xlsx', encoding='utf-8',\n",
    "                sheet_name='图片链接', index=False)  # 导出文件"
   ]
  }
 ],
 "metadata": {
  "kernelspec": {
   "display_name": "Python 3",
   "language": "python",
   "name": "python3"
  },
  "language_info": {
   "codemirror_mode": {
    "name": "ipython",
    "version": 3
   },
   "file_extension": ".py",
   "mimetype": "text/x-python",
   "name": "python",
   "nbconvert_exporter": "python",
   "pygments_lexer": "ipython3",
   "version": "3.7.6"
  },
  "toc": {
   "base_numbering": 1,
   "nav_menu": {},
   "number_sections": true,
   "sideBar": true,
   "skip_h1_title": false,
   "title_cell": "Table of Contents",
   "title_sidebar": "Contents",
   "toc_cell": false,
   "toc_position": {},
   "toc_section_display": true,
   "toc_window_display": false
  }
 },
 "nbformat": 4,
 "nbformat_minor": 4
}
